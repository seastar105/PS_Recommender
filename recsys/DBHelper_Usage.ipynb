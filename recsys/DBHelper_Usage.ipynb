{
 "cells": [
  {
   "cell_type": "code",
   "execution_count": 1,
   "metadata": {},
   "outputs": [],
   "source": [
    "import os\n",
    "import json\n",
    "import requests\n",
    "import time\n",
    "\n",
    "from utils import DBHelper"
   ]
  },
  {
   "cell_type": "code",
   "execution_count": 2,
   "metadata": {},
   "outputs": [],
   "source": [
    "db = DBHelper('./.mylogin.cnf')   # .mylogin.cnf의 경로를 인자로 줘야 합니다. "
   ]
  },
  {
   "cell_type": "code",
   "execution_count": 8,
   "metadata": {},
   "outputs": [
    {
     "name": "stdout",
     "output_type": "stream",
     "text": [
      "({'id': 1077, 'tier': 20, 'exp': 977727}, {'id': 1151, 'tier': 17, 'exp': 265117}, {'id': 1218, 'tier': 25, 'exp': 9178407})\n",
      "({'id': 1209, 'tier': 16, 'exp': 172714}, {'id': 3685, 'tier': 24, 'exp': 5827560}, {'id': 12010, 'tier': 25, 'exp': 9178407})\n",
      "({'id': 1180, 'tier': 23, 'exp': 3711822}, {'id': 2111, 'tier': 20, 'exp': 977727}, {'id': 3748, 'tier': 20, 'exp': 977727})\n",
      "({'id': 1097, 'tier': 16, 'exp': 172714}, {'id': 1305, 'tier': 17, 'exp': 265117}, {'id': 1498, 'tier': 17, 'exp': 265117})\n",
      "({'id': 7610, 'tier': 25, 'exp': 9178407}, {'id': 10724, 'tier': 26, 'exp': 14501883}, {'id': 13539, 'tier': 25, 'exp': 9178407})\n",
      "({'id': 1170, 'tier': 18, 'exp': 408280}, {'id': 1180, 'tier': 23, 'exp': 3711822}, {'id': 2111, 'tier': 20, 'exp': 977727})\n"
     ]
    }
   ],
   "source": [
    "query_string = f' \\\n",
    "            SELECT * \\\n",
    "            FROM tag \\\n",
    "            ORDER BY RAND() \\\n",
    "            LIMIT 6'\n",
    "tags = db.query(query_string)\n",
    "\n",
    "problems = dict()\n",
    "for tag in tags:\n",
    "    tag_id = tag['id']\n",
    "    tag_name = tag['name']\n",
    "    query_string = f' \\\n",
    "                SELECT problem.id, problem.tier, problem.exp \\\n",
    "                FROM problem join problem_tag on problem.id = problem_tag.problem_id \\\n",
    "                WHERE problem_tag.tag_id = {tag_id} \\\n",
    "                LIMIT 3'\n",
    "    print(db.query(query_string))"
   ]
  },
  {
   "cell_type": "code",
   "execution_count": 3,
   "metadata": {},
   "outputs": [
    {
     "ename": "KeyError",
     "evalue": "'problem_id'",
     "output_type": "error",
     "traceback": [
      "\u001b[0;31m\u001b[0m",
      "\u001b[0;31mKeyError\u001b[0mTraceback (most recent call last)",
      "\u001b[0;32m<ipython-input-3-3eece723434b>\u001b[0m in \u001b[0;36m<module>\u001b[0;34m\u001b[0m\n\u001b[0;32m----> 1\u001b[0;31m \u001b[0mprint\u001b[0m\u001b[0;34m(\u001b[0m\u001b[0mdb\u001b[0m\u001b[0;34m.\u001b[0m\u001b[0mtopk_problems\u001b[0m\u001b[0;34m(\u001b[0m\u001b[0;34m'seastar105'\u001b[0m\u001b[0;34m,\u001b[0m \u001b[0;36m10\u001b[0m\u001b[0;34m)\u001b[0m\u001b[0;34m)\u001b[0m\u001b[0;34m\u001b[0m\u001b[0;34m\u001b[0m\u001b[0m\n\u001b[0m",
      "\u001b[0;32m/opt/notebooks/utils.py\u001b[0m in \u001b[0;36mtopk_problems\u001b[0;34m(self, handle, k)\u001b[0m\n\u001b[1;32m    245\u001b[0m \u001b[0;34m\u001b[0m\u001b[0m\n\u001b[1;32m    246\u001b[0m         \u001b[0mquery_res\u001b[0m \u001b[0;34m=\u001b[0m \u001b[0mself\u001b[0m\u001b[0;34m.\u001b[0m\u001b[0mquery\u001b[0m\u001b[0;34m(\u001b[0m\u001b[0mquery_string\u001b[0m\u001b[0;34m)\u001b[0m\u001b[0;34m\u001b[0m\u001b[0;34m\u001b[0m\u001b[0m\n\u001b[0;32m--> 247\u001b[0;31m         \u001b[0mresult\u001b[0m \u001b[0;34m=\u001b[0m \u001b[0;34m[\u001b[0m\u001b[0mrow\u001b[0m\u001b[0;34m[\u001b[0m\u001b[0;34m'problem_id'\u001b[0m\u001b[0;34m]\u001b[0m \u001b[0;32mfor\u001b[0m \u001b[0mrow\u001b[0m \u001b[0;32min\u001b[0m \u001b[0mquery_res\u001b[0m\u001b[0;34m]\u001b[0m\u001b[0;34m\u001b[0m\u001b[0;34m\u001b[0m\u001b[0m\n\u001b[0m\u001b[1;32m    248\u001b[0m \u001b[0;34m\u001b[0m\u001b[0m\n\u001b[1;32m    249\u001b[0m         \u001b[0;32mreturn\u001b[0m \u001b[0mresult\u001b[0m\u001b[0;34m\u001b[0m\u001b[0;34m\u001b[0m\u001b[0m\n",
      "\u001b[0;32m/opt/notebooks/utils.py\u001b[0m in \u001b[0;36m<listcomp>\u001b[0;34m(.0)\u001b[0m\n\u001b[1;32m    245\u001b[0m \u001b[0;34m\u001b[0m\u001b[0m\n\u001b[1;32m    246\u001b[0m         \u001b[0mquery_res\u001b[0m \u001b[0;34m=\u001b[0m \u001b[0mself\u001b[0m\u001b[0;34m.\u001b[0m\u001b[0mquery\u001b[0m\u001b[0;34m(\u001b[0m\u001b[0mquery_string\u001b[0m\u001b[0;34m)\u001b[0m\u001b[0;34m\u001b[0m\u001b[0;34m\u001b[0m\u001b[0m\n\u001b[0;32m--> 247\u001b[0;31m         \u001b[0mresult\u001b[0m \u001b[0;34m=\u001b[0m \u001b[0;34m[\u001b[0m\u001b[0mrow\u001b[0m\u001b[0;34m[\u001b[0m\u001b[0;34m'problem_id'\u001b[0m\u001b[0;34m]\u001b[0m \u001b[0;32mfor\u001b[0m \u001b[0mrow\u001b[0m \u001b[0;32min\u001b[0m \u001b[0mquery_res\u001b[0m\u001b[0;34m]\u001b[0m\u001b[0;34m\u001b[0m\u001b[0;34m\u001b[0m\u001b[0m\n\u001b[0m\u001b[1;32m    248\u001b[0m \u001b[0;34m\u001b[0m\u001b[0m\n\u001b[1;32m    249\u001b[0m         \u001b[0;32mreturn\u001b[0m \u001b[0mresult\u001b[0m\u001b[0;34m\u001b[0m\u001b[0;34m\u001b[0m\u001b[0m\n",
      "\u001b[0;31mKeyError\u001b[0m: 'problem_id'"
     ]
    }
   ],
   "source": [
    "print(db.topk_problems('seastar105', 10))"
   ]
  },
  {
   "cell_type": "code",
   "execution_count": 6,
   "metadata": {},
   "outputs": [
    {
     "name": "stdout",
     "output_type": "stream",
     "text": [
      "({'id': 1000, 'tier': 1, 'exp': 480}, {'id': 1001, 'tier': 1, 'exp': 480}, {'id': 1002, 'tier': 7, 'exp': 4276}, {'id': 1003, 'tier': 8, 'exp': 6329}, {'id': 1004, 'tier': 8, 'exp': 6329})\n",
      "Wrong Query String \"WRONG QUERY\"\n",
      "None\n"
     ]
    }
   ],
   "source": [
    "# db.query(query_string) : query_string의 결과를 보여줍니다.\n",
    "# 쿼리 결과에서 하나의 row를 dictionary로서 가지는 tuple을 반환합니다.\n",
    "print(db.query('SELECT * FROM problem LIMIT 5'))\n",
    "# 쿼리문이 잘못 됐을 경우에는 None을 return하고 이를 알려줍니다.\n",
    "print(db.query('WRONG QUERY'))"
   ]
  },
  {
   "cell_type": "code",
   "execution_count": 4,
   "metadata": {},
   "outputs": [
    {
     "name": "stdout",
     "output_type": "stream",
     "text": [
      "2371771\n",
      "[3, 14, 27, 100]\n",
      "None\n"
     ]
    }
   ],
   "source": [
    "# 자주 쓸만한 쿼리들은 메소드로 만들어 뒀습니다.\n",
    "# db.get_problem_tags(problem_id) : 문제 번호를 사용해서 문제에 붙은 태그와 경험치를 돌려받는 함수입니다.\n",
    "# DB에 없는 문제 번호일 경우 None을 반환합니다\n",
    "# Unrated거나 평가할 수 없는 문제일 경우 exp가 0입니다.\n",
    "res = db.get_problem_tags(14636)\n",
    "print(res['exp'])\n",
    "print(res['tags'])\n",
    "print(db.get_problem_tags(30000)) # None"
   ]
  },
  {
   "cell_type": "code",
   "execution_count": 5,
   "metadata": {},
   "outputs": [
    {
     "name": "stdout",
     "output_type": "stream",
     "text": [
      "{1: 238469433, 5: 194562445, 7: 190108987, 3: 143915043, 12: 105244529, 23: 92439689, 33: 83723330, 10: 82596719, 27: 80422969, 13: 76081999, 11: 75503834, 67: 74614208, 58: 72581875, 20: 61748287, 14: 56158047, 4: 52629146, 83: 44209423, 84: 44209423, 103: 39135255, 75: 39007734, 133: 37487368, 129: 34661896, 69: 32945960, 15: 32482173, 8: 27166052, 100: 26180146, 40: 22570527, 92: 22048625, 38: 18951319, 147: 18356814, 21: 18353669, 44: 16768378, 19: 12732468, 49: 12409809, 48: 12259687, 51: 11771500, 16: 11271497, 46: 10716662, 43: 10003123, 50: 9963884, 140: 9304640, 89: 9178407, 144: 9178407, 6: 9119815, 2: 9077072, 35: 9049275, 39: 8260515, 28: 7666139, 118: 6441779, 99: 6100647, 34: 5162670, 32: 5157517, 24: 5018594, 25: 4884644, 65: 4882551, 52: 4846566, 41: 4839265, 31: 4785029, 61: 4375240, 66: 4309488, 114: 4084240, 53: 3926111, 122: 3892137, 95: 3892137, 78: 3892137, 110: 3711822, 59: 3706778, 57: 3507965, 63: 3481157, 112: 3449012, 72: 3349498, 60: 3128653, 42: 3093820, 113: 3040732, 86: 2952765, 9: 2882791, 120: 2763210, 96: 2371771, 107: 2371771, 159: 2371771, 70: 2280685, 22: 2193162, 76: 2103500, 87: 1651124, 88: 1590353, 160: 1520366, 81: 1478022, 101: 1457922, 29: 1443104, 47: 1410971, 82: 1304189, 18: 1287385, 98: 1261584, 37: 1228666, 54: 1228042, 68: 1224840, 71: 1090192, 162: 977727, 77: 977727, 116: 703716, 125: 630792, 168: 630792, 169: 630792, 127: 564910, 80: 493474, 36: 437443, 121: 420938, 105: 412678, 74: 411519, 111: 392573, 56: 328279, 26: 228047, 62: 211657, 108: 172714, 30: 137686, 55: 135061, 134: 122315, 64: 69987, 17: 62495, 45: 57214, 115: 48699, 93: 48699, 130: 44568, 91: 43354, 104: 4535, 85: 2909, 106: 954}\n",
      "None\n"
     ]
    }
   ],
   "source": [
    "# db.get_user_tags(handle) : 유저의 handle을 인자로 넘겨주면 해당 유저의 태그별 경험치를 반환합니다.\n",
    "# DB에 존재하지 않는 유저일 경우 None을 반환합니다.\n",
    "res = db.get_user_tags('seastar105')\n",
    "print(res)\n",
    "print(db.get_user_tags('NonExistingUser')) # None"
   ]
  }
 ],
 "metadata": {
  "interpreter": {
   "hash": "d4d1e4263499bec80672ea0156c357c1ee493ec2b1c70f0acce89fc37c4a6abe"
  },
  "kernelspec": {
   "display_name": "Python 3",
   "language": "python",
   "name": "python3"
  },
  "language_info": {
   "codemirror_mode": {
    "name": "ipython",
    "version": 3
   },
   "file_extension": ".py",
   "mimetype": "text/x-python",
   "name": "python",
   "nbconvert_exporter": "python",
   "pygments_lexer": "ipython3",
   "version": "3.7.6"
  }
 },
 "nbformat": 4,
 "nbformat_minor": 5
}
